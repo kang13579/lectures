{
 "cells": [
  {
   "cell_type": "code",
   "execution_count": 65,
   "id": "54bd33a2-833d-469b-b9e2-b278526c437d",
   "metadata": {},
   "outputs": [
    {
     "name": "stdout",
     "output_type": "stream",
     "text": [
      "255\n",
      "\n",
      "Average price is 31.875000  \n",
      "\n",
      "[25, 20, 35, 15, 15, 30, 45, 30]\n",
      "\n",
      "average_daily_revenue is 155.000000\n",
      "\n",
      "['bouffant', 'pixie', 'crew', 'bowl']\n"
     ]
    }
   ],
   "source": [
    "hairstyles = ['bouffant', 'pixie', 'dreadlocks', 'crew', 'bowl', 'bob', 'mohawk', 'flattop']\n",
    "\n",
    "prices = [30, 25, 40, 20, 20, 35, 50, 35]\n",
    "\n",
    "last_week = [2, 3, 5, 8, 4, 4, 6, 2]\n",
    "\n",
    "total_price = 0\n",
    "\n",
    "for i in range(len(prices)):\n",
    "    total_price = total_price + prices[i]\n",
    "print(total_price)\n",
    "print()\n",
    "\n",
    "total_price = total_price / len(prices)\n",
    "print(\"Average price is %f  \" % total_price)\n",
    "print()\n",
    "\n",
    "new_prices = [i-5 for i in prices]\n",
    "print(new_prices)\n",
    "print()\n",
    "\n",
    "total_revenue = 0\n",
    "for i in range(len(hairstyles)):\n",
    "    i = prices[i] * last_week[i]\n",
    "    total_revenue = total_revenue + i\n",
    "print(\"average_daily_revenue is %f\"  %(total_revenue/7))\n",
    "print()\n",
    "\n",
    "\n",
    "cuts_under_30 = []\n",
    "cuts_under_30 = [hairstyles[i] for i in range(len(new_prices)) if new_prices[i] < 30]\n",
    "print(cuts_under_30)"
   ]
  },
  {
   "cell_type": "code",
   "execution_count": null,
   "id": "db8083b6-d624-4c9b-9b5c-7cd22b02b49b",
   "metadata": {},
   "outputs": [],
   "source": []
  }
 ],
 "metadata": {
  "kernelspec": {
   "display_name": "Python 3",
   "language": "python",
   "name": "python3"
  },
  "language_info": {
   "codemirror_mode": {
    "name": "ipython",
    "version": 3
   },
   "file_extension": ".py",
   "mimetype": "text/x-python",
   "name": "python",
   "nbconvert_exporter": "python",
   "pygments_lexer": "ipython3",
   "version": "3.8.8"
  }
 },
 "nbformat": 4,
 "nbformat_minor": 5
}
