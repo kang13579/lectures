{
 "cells": [
  {
   "cell_type": "code",
   "execution_count": 1,
   "id": "afd177ee-214b-4aeb-b29f-99fd611be248",
   "metadata": {},
   "outputs": [],
   "source": [
    "import pandas as pd\n",
    "import numpy as np"
   ]
  },
  {
   "cell_type": "code",
   "execution_count": 15,
   "id": "34fbdfc6-322c-429e-a687-eaf3786cdc20",
   "metadata": {},
   "outputs": [
    {
     "name": "stdout",
     "output_type": "stream",
     "text": [
      "[1 2 3 4 5 6 7 8 9] \n",
      "\n",
      "[[1 2 3]]\n",
      "[1, 2, 3] [4, 5, 6] [7, 8, 9]\n"
     ]
    }
   ],
   "source": [
    "\"\"\"\n",
    "numpy.comcatenate()\n",
    "\"\"\"\n",
    "\n",
    "x = [1, 2, 3]\n",
    "y = [4, 5, 6]\n",
    "z = [7, 8, 9]\n",
    "\n",
    "print(np.concatenate([x, y, z]), '\\n')\n",
    "print(np.vstack([x, ]))\n",
    "print(x, y, z)"
   ]
  },
  {
   "cell_type": "code",
   "execution_count": 3,
   "id": "4e4e64bf-ba09-4fdd-bf24-1f9921a26169",
   "metadata": {},
   "outputs": [
    {
     "data": {
      "text/plain": [
       "1    A\n",
       "2    B\n",
       "3    C\n",
       "4    D\n",
       "5    E\n",
       "6    F\n",
       "dtype: object"
      ]
     },
     "execution_count": 3,
     "metadata": {},
     "output_type": "execute_result"
    }
   ],
   "source": [
    "\"\"\"\n",
    "pandas.concat()\n",
    "\"\"\"\n",
    "\n",
    "ser1 = pd.Series(['A', 'B', 'C'], index=[1, 2, 3])\n",
    "ser2 = pd.Series(['D', 'E', 'F'], index=[4, 5, 6])\n",
    "\n",
    "pd.concat([ser1, ser2])"
   ]
  },
  {
   "cell_type": "code",
   "execution_count": 4,
   "id": "9de554e8-3ce9-4378-bd88-d47a897065d9",
   "metadata": {},
   "outputs": [
    {
     "name": "stdout",
     "output_type": "stream",
     "text": [
      "    A   B   C\n",
      "1  A1  B1  C1\n",
      "2  A2  B2  C2\n"
     ]
    }
   ],
   "source": [
    "def make_df(cols, ind):\n",
    "    data = {c: [str(c) + str(i) for i in ind]\n",
    "        for c in cols}\n",
    "    return pd.DataFrame(data, ind)\n",
    "\n",
    "print(make_df('ABC', [1, 2]))"
   ]
  },
  {
   "cell_type": "code",
   "execution_count": 5,
   "id": "a27c7a13-bcb9-4e18-a717-5d93b54e2624",
   "metadata": {},
   "outputs": [
    {
     "name": "stdout",
     "output_type": "stream",
     "text": [
      "    A   B\n",
      "1  A1  B1\n",
      "2  A2  B2 \n",
      "\n",
      "    A   B\n",
      "3  A3  B3\n",
      "4  A4  B4 \n",
      "\n",
      "    A   B\n",
      "1  A1  B1\n",
      "2  A2  B2\n",
      "3  A3  B3\n",
      "4  A4  B4\n",
      "     A    B    A    B\n",
      "1   A1   B1  NaN  NaN\n",
      "2   A2   B2  NaN  NaN\n",
      "3  NaN  NaN   A3   B3\n",
      "4  NaN  NaN   A4   B4\n"
     ]
    }
   ],
   "source": [
    "df1 = make_df('AB', [1, 2])\n",
    "df2 = make_df('AB', [3, 4])\n",
    "\n",
    "print(df1, '\\n')\n",
    "print(df2, '\\n')\n",
    "\n",
    "print(pd.concat([df1, df2], axis=0))\n",
    "print(pd.concat([df1, df2], axis=1))"
   ]
  },
  {
   "cell_type": "code",
   "execution_count": 11,
   "id": "12b93418-d969-4c97-9ec4-77dfabb70e19",
   "metadata": {},
   "outputs": [
    {
     "name": "stdout",
     "output_type": "stream",
     "text": [
      "     A    B    C    D\n",
      "0   A0   B0  NaN  NaN\n",
      "1   A1   B1  NaN  NaN\n",
      "0  NaN  NaN   C0   D0\n",
      "1  NaN  NaN   C1   D1 \n",
      "\n",
      "    A   B   C   D\n",
      "0  A0  B0  C0  D0\n",
      "1  A1  B1  C1  D1\n"
     ]
    }
   ],
   "source": [
    "#candge the axis to 0\n",
    "\n",
    "df3 = make_df('AB', [0, 1])\n",
    "df4 = make_df('CD', [0, 1])\n",
    "\n",
    "print(pd.concat([df3, df4], axis=0), '\\n')\n",
    "print(pd.concat([df3, df4], axis=1))"
   ]
  },
  {
   "cell_type": "code",
   "execution_count": 13,
   "id": "16f79088-eeb7-4630-ab19-71b059b14902",
   "metadata": {},
   "outputs": [
    {
     "name": "stdout",
     "output_type": "stream",
     "text": [
      "    A   B\n",
      "0  A0  B0\n",
      "1  A1  B1\n",
      "0  A0  B0\n",
      "1  A1  B1\n"
     ]
    }
   ],
   "source": [
    "#case1\n",
    "\n",
    "x = make_df('AB', [0, 1])\n",
    "y = make_df('AB', [0, 1])\n",
    "\n",
    "print(pd.concat([x, y]))"
   ]
  },
  {
   "cell_type": "code",
   "execution_count": 8,
   "id": "eacc5055-1b37-4729-8e1a-0b36558af783",
   "metadata": {},
   "outputs": [
    {
     "name": "stdout",
     "output_type": "stream",
     "text": [
      "ValueErroe:  Indexes have overlapping values: Int64Index([0, 1], dtype='int64')\n"
     ]
    }
   ],
   "source": [
    "# Case2 catching duplications as errors\n",
    "\n",
    "try:\n",
    "    pd.concat([x, y], verify_integrity=True)\n",
    "    \n",
    "except ValueError as e:\n",
    "    print(\"ValueErroe: \", e)"
   ]
  },
  {
   "cell_type": "code",
   "execution_count": 9,
   "id": "9dfce82a-0f12-400b-9699-c4ca5b92fc8e",
   "metadata": {},
   "outputs": [
    {
     "data": {
      "text/html": [
       "<div>\n",
       "<style scoped>\n",
       "    .dataframe tbody tr th:only-of-type {\n",
       "        vertical-align: middle;\n",
       "    }\n",
       "\n",
       "    .dataframe tbody tr th {\n",
       "        vertical-align: top;\n",
       "    }\n",
       "\n",
       "    .dataframe thead th {\n",
       "        text-align: right;\n",
       "    }\n",
       "</style>\n",
       "<table border=\"1\" class=\"dataframe\">\n",
       "  <thead>\n",
       "    <tr style=\"text-align: right;\">\n",
       "      <th></th>\n",
       "      <th>A</th>\n",
       "      <th>B</th>\n",
       "    </tr>\n",
       "  </thead>\n",
       "  <tbody>\n",
       "    <tr>\n",
       "      <th>0</th>\n",
       "      <td>A0</td>\n",
       "      <td>B0</td>\n",
       "    </tr>\n",
       "    <tr>\n",
       "      <th>1</th>\n",
       "      <td>A1</td>\n",
       "      <td>B1</td>\n",
       "    </tr>\n",
       "    <tr>\n",
       "      <th>2</th>\n",
       "      <td>A0</td>\n",
       "      <td>B0</td>\n",
       "    </tr>\n",
       "    <tr>\n",
       "      <th>3</th>\n",
       "      <td>A1</td>\n",
       "      <td>B1</td>\n",
       "    </tr>\n",
       "  </tbody>\n",
       "</table>\n",
       "</div>"
      ],
      "text/plain": [
       "    A   B\n",
       "0  A0  B0\n",
       "1  A1  B1\n",
       "2  A0  B0\n",
       "3  A1  B1"
      ]
     },
     "execution_count": 9,
     "metadata": {},
     "output_type": "execute_result"
    }
   ],
   "source": [
    "#Case3 ignore_index\n",
    "\n",
    "pd.concat([x, y], ignore_index=True)"
   ]
  },
  {
   "cell_type": "code",
   "execution_count": 10,
   "id": "6616aa75-1093-4702-9aab-7c5552b393c1",
   "metadata": {},
   "outputs": [
    {
     "name": "stdout",
     "output_type": "stream",
     "text": [
      "    A   B   C\n",
      "1  A1  B1  C1\n",
      "2  A2  B2  C2 \n",
      "\n",
      "     B   C   D\n",
      "3  B3  C3  D3\n",
      "4  B4  C4  D4\n",
      "     A   B   C    D\n",
      "1   A1  B1  C1  NaN\n",
      "2   A2  B2  C2  NaN\n",
      "3  NaN  B3  C3   D3\n",
      "4  NaN  B4  C4   D4\n"
     ]
    },
    {
     "data": {
      "text/html": [
       "<div>\n",
       "<style scoped>\n",
       "    .dataframe tbody tr th:only-of-type {\n",
       "        vertical-align: middle;\n",
       "    }\n",
       "\n",
       "    .dataframe tbody tr th {\n",
       "        vertical-align: top;\n",
       "    }\n",
       "\n",
       "    .dataframe thead th {\n",
       "        text-align: right;\n",
       "    }\n",
       "</style>\n",
       "<table border=\"1\" class=\"dataframe\">\n",
       "  <thead>\n",
       "    <tr style=\"text-align: right;\">\n",
       "      <th></th>\n",
       "      <th>B</th>\n",
       "      <th>C</th>\n",
       "    </tr>\n",
       "  </thead>\n",
       "  <tbody>\n",
       "    <tr>\n",
       "      <th>1</th>\n",
       "      <td>B1</td>\n",
       "      <td>C1</td>\n",
       "    </tr>\n",
       "    <tr>\n",
       "      <th>2</th>\n",
       "      <td>B2</td>\n",
       "      <td>C2</td>\n",
       "    </tr>\n",
       "    <tr>\n",
       "      <th>3</th>\n",
       "      <td>B3</td>\n",
       "      <td>C3</td>\n",
       "    </tr>\n",
       "    <tr>\n",
       "      <th>4</th>\n",
       "      <td>B4</td>\n",
       "      <td>C4</td>\n",
       "    </tr>\n",
       "  </tbody>\n",
       "</table>\n",
       "</div>"
      ],
      "text/plain": [
       "    B   C\n",
       "1  B1  C1\n",
       "2  B2  C2\n",
       "3  B3  C3\n",
       "4  B4  C4"
      ]
     },
     "execution_count": 10,
     "metadata": {},
     "output_type": "execute_result"
    }
   ],
   "source": [
    "\"\"\"\n",
    "concat(): join options\n",
    "\"\"\"\n",
    "\n",
    "x = make_df('ABC', [1, 2])\n",
    "y = make_df('BCD', [3, 4])\n",
    "\n",
    "print(x, '\\n\\n', y)\n",
    "\n",
    "print(pd.concat([x, y], join='outer'))\n",
    "pd.concat([x, y], join='inner')"
   ]
  },
  {
   "cell_type": "code",
   "execution_count": 24,
   "id": "63415cbc-97a6-4211-a72a-c1082071c7a9",
   "metadata": {},
   "outputs": [
    {
     "name": "stdout",
     "output_type": "stream",
     "text": [
      "  employee        group\n",
      "0      Bob   Accounting\n",
      "1     Jake  Engineering\n",
      "2     Lisa  Engineering\n",
      "3      Sue           HR \n",
      "\n",
      "   employee  hire_date\n",
      "0      Bob       2004\n",
      "1     Jake       2008\n",
      "2     Lisa       2012\n",
      "3      Sue       2014\n",
      "\n",
      "\n",
      "\n",
      "  employee        group  hire_date\n",
      "0      Bob   Accounting       2004\n",
      "1     Jake  Engineering       2008\n",
      "2     Lisa  Engineering       2012\n",
      "3      Sue           HR       2014\n"
     ]
    }
   ],
   "source": [
    "# one to one joins\n",
    "\n",
    "\n",
    "df1 = pd.DataFrame({'employee': ['Bob', 'Jake', 'Lisa', 'Sue'], 'group':['Accounting', 'Engineering', 'Engineering', 'HR']})\n",
    "\n",
    "df2= pd.DataFrame({'employee': ['Bob', 'Jake', 'Lisa', 'Sue'], 'hire_date': [2004, 2008, 2012, 2014]})\n",
    "\n",
    "\n",
    "df3 = pd.merge(df1, df2)\n",
    "print(df1, '\\n\\n', df2)\n",
    "print('\\n\\n')\n",
    "print(pd.merge(df1, df2))\n",
    "                                                                         "
   ]
  },
  {
   "cell_type": "code",
   "execution_count": 26,
   "id": "361c1551-5be0-4e91-afbe-c21a7abee310",
   "metadata": {},
   "outputs": [
    {
     "name": "stdout",
     "output_type": "stream",
     "text": [
      "  employee        group  hire_date\n",
      "0      Bob   Accounting       2004\n",
      "1     Jake  Engineering       2008\n",
      "2     Lisa  Engineering       2012\n",
      "3      Sue           HR       2014 \n",
      "\n",
      "         group supervisor\n",
      "0   Accounting      Carly\n",
      "1  Engineering      Guido\n",
      "2           HR      Steve \n",
      "\n",
      "  employee        group  hire_date supervisor\n",
      "0      Bob   Accounting       2004      Carly\n",
      "1     Jake  Engineering       2008      Guido\n",
      "2     Lisa  Engineering       2012      Guido\n",
      "3      Sue           HR       2014      Steve\n"
     ]
    }
   ],
   "source": [
    "#Many-to-one joins\n",
    "\n",
    "df4 = pd.DataFrame({'group':['Accounting', 'Engineering', 'HR'], 'supervisor': ['Carly', 'Guido', 'Steve']})\n",
    "\n",
    "\n",
    "print(df3, '\\n')\n",
    "print(df4, '\\n')\n",
    "\n",
    "print(pd.merge(df3, df4))"
   ]
  },
  {
   "cell_type": "code",
   "execution_count": 32,
   "id": "81f3c091-bbeb-4948-85dd-423975677751",
   "metadata": {},
   "outputs": [
    {
     "name": "stdout",
     "output_type": "stream",
     "text": [
      "  employee        group\n",
      "0      Bob   Accounting\n",
      "1     Jake  Engineering\n",
      "2     Lisa  Engineering\n",
      "3      Sue           HR \n",
      "\n",
      "         group        skills\n",
      "0   Accounting          math\n",
      "1   Accounting  spreadsheets\n",
      "2  Engineering        coding\n",
      "3  Engineering         linux\n",
      "4           HR  spreadsheets\n",
      "5           HR  organization \n",
      "\n",
      "  employee        group        skills\n",
      "0      Bob   Accounting          math\n",
      "1      Bob   Accounting  spreadsheets\n",
      "2     Jake  Engineering        coding\n",
      "3     Jake  Engineering         linux\n",
      "4     Lisa  Engineering        coding\n",
      "5     Lisa  Engineering         linux\n",
      "6      Sue           HR  spreadsheets\n",
      "7      Sue           HR  organization\n"
     ]
    }
   ],
   "source": [
    "df5 = pd.DataFrame({'group':['Accounting', 'Accounting', 'Engineering', 'Engineering', 'HR', 'HR'], \n",
    "                    'skills': ['math', 'spreadsheets', 'coding', 'linux', 'spreadsheets', 'organization']})\n",
    "\n",
    "print(df1, '\\n')\n",
    "print(df5, '\\n')\n",
    "\n",
    "print(pd.merge(df1, df5))"
   ]
  },
  {
   "cell_type": "code",
   "execution_count": 39,
   "id": "66c8cce3-e79f-4f31-948f-03d5e00621b6",
   "metadata": {},
   "outputs": [
    {
     "name": "stdout",
     "output_type": "stream",
     "text": [
      "  employee        group  age\n",
      "0      Bob   Accounting   20\n",
      "1     Jake  Engineering   42\n",
      "2     Lisa  Engineering   37\n",
      "3      Sue           HR   25 \n",
      "\n",
      "  employee  hire_date  age\n",
      "0      Bob       2004   37\n",
      "1     Jake       2008   20\n",
      "2     Lisa       2012   42\n",
      "3      Sue       2014   25 \n",
      "\n",
      "  employee        group  age\n",
      "0      Bob   Accounting   20\n",
      "1     Jake  Engineering   42\n",
      "2     Lisa  Engineering   37\n",
      "3      Sue           HR   25 \n",
      "\n",
      "   employee  hire_date  age\n",
      "0      Bob       2004   20\n",
      "1     Jake       2008   42\n",
      "2     Lisa       2012   37\n",
      "3      Sue       2014   25 \n",
      "\n",
      "\n",
      "  employee        group  age_x  hire_date  age_y\n",
      "0      Bob   Accounting     20       2004     20\n",
      "1     Jake  Engineering     42       2008     42\n",
      "2     Lisa  Engineering     37       2012     37\n",
      "3      Sue           HR     25       2014     25\n",
      "  employee_x        group  age employee_y  hire_date\n",
      "0        Bob   Accounting   20        Bob       2004\n",
      "1       Jake  Engineering   42       Jake       2008\n",
      "2       Lisa  Engineering   37       Lisa       2012\n",
      "3        Sue           HR   25        Sue       2014\n"
     ]
    }
   ],
   "source": [
    "\"\"\"\n",
    "Specifying the merge Key\n",
    "\"\"\"\n",
    "\n",
    "# 'on' argument:use a common column as merge key\n",
    "\n",
    "print(df1, '\\n')\n",
    "print(df2, '\\n')\n",
    "\n",
    "df1['age'] = pd.Series([20, 42, 37, 25])\n",
    "df2['age'] = pd.Series([20, 42, 37, 25])\n",
    "\n",
    "print(df1, '\\n\\n', df2, '\\n\\n')\n",
    "\n",
    "print(pd.merge(df1, df2, on='employee'))\n",
    "print(pd.merge(df1, df2, on='age'))"
   ]
  },
  {
   "cell_type": "code",
   "execution_count": 44,
   "id": "ce8024f7-22eb-4f56-ad2e-bde05ac111ec",
   "metadata": {},
   "outputs": [
    {
     "name": "stdout",
     "output_type": "stream",
     "text": [
      "  employee        group  age\n",
      "0      Bob   Accounting   20\n",
      "1     Jake  Engineering   42\n",
      "2     Lisa  Engineering   37\n",
      "3      Sue           HR   25 \n",
      "\n",
      "   name  salary\n",
      "0   Bob   70000\n",
      "1  Jake   80000\n",
      "2  Lisa  120000\n",
      "3   Sue   90000 \n",
      "\n",
      "\n",
      "  employee        group  age  name  salary\n",
      "0      Bob   Accounting   20   Bob   70000\n",
      "1     Jake  Engineering   42  Jake   80000\n",
      "2     Lisa  Engineering   37  Lisa  120000\n",
      "3      Sue           HR   25   Sue   90000\n"
     ]
    }
   ],
   "source": [
    "# 'Left_on' and 'right_on' arguments:\n",
    "\n",
    "df3 = pd.DataFrame({'name': ['Bob', 'Jake', 'Lisa', 'Sue'], 'salary':[70000, 80000, 120000, 90000]})\n",
    "\n",
    "print(df1, '\\n')\n",
    "print(df3, '\\n\\n')\n",
    "\n",
    "print(pd.merge(df1, df3, left_on='employee', right_on = 'name'))"
   ]
  },
  {
   "cell_type": "code",
   "execution_count": 55,
   "id": "2b4a7615-805b-4f51-84de-8c7c7a02ae18",
   "metadata": {},
   "outputs": [
    {
     "name": "stdout",
     "output_type": "stream",
     "text": [
      "  employee        group  age\n",
      "0      Bob   Accounting   20\n",
      "1     Jake  Engineering   42\n",
      "2     Lisa  Engineering   37\n",
      "3      Sue           HR   25 \n",
      "\n",
      "                group  age\n",
      "employee                  \n",
      "Bob        Accounting   20\n",
      "Jake      Engineering   42\n",
      "Lisa      Engineering   37\n",
      "Sue                HR   25\n",
      "          hire_date  age\n",
      "employee                \n",
      "Bob            2004   20\n",
      "Jake           2008   42\n",
      "Lisa           2012   37\n",
      "Sue            2014   25\n"
     ]
    },
    {
     "data": {
      "text/html": [
       "<div>\n",
       "<style scoped>\n",
       "    .dataframe tbody tr th:only-of-type {\n",
       "        vertical-align: middle;\n",
       "    }\n",
       "\n",
       "    .dataframe tbody tr th {\n",
       "        vertical-align: top;\n",
       "    }\n",
       "\n",
       "    .dataframe thead th {\n",
       "        text-align: right;\n",
       "    }\n",
       "</style>\n",
       "<table border=\"1\" class=\"dataframe\">\n",
       "  <thead>\n",
       "    <tr style=\"text-align: right;\">\n",
       "      <th></th>\n",
       "      <th>group</th>\n",
       "      <th>age_x</th>\n",
       "      <th>hire_date</th>\n",
       "      <th>age_y</th>\n",
       "    </tr>\n",
       "    <tr>\n",
       "      <th>employee</th>\n",
       "      <th></th>\n",
       "      <th></th>\n",
       "      <th></th>\n",
       "      <th></th>\n",
       "    </tr>\n",
       "  </thead>\n",
       "  <tbody>\n",
       "    <tr>\n",
       "      <th>Bob</th>\n",
       "      <td>Accounting</td>\n",
       "      <td>20</td>\n",
       "      <td>2004</td>\n",
       "      <td>20</td>\n",
       "    </tr>\n",
       "    <tr>\n",
       "      <th>Jake</th>\n",
       "      <td>Engineering</td>\n",
       "      <td>42</td>\n",
       "      <td>2008</td>\n",
       "      <td>42</td>\n",
       "    </tr>\n",
       "    <tr>\n",
       "      <th>Lisa</th>\n",
       "      <td>Engineering</td>\n",
       "      <td>37</td>\n",
       "      <td>2012</td>\n",
       "      <td>37</td>\n",
       "    </tr>\n",
       "    <tr>\n",
       "      <th>Sue</th>\n",
       "      <td>HR</td>\n",
       "      <td>25</td>\n",
       "      <td>2014</td>\n",
       "      <td>25</td>\n",
       "    </tr>\n",
       "  </tbody>\n",
       "</table>\n",
       "</div>"
      ],
      "text/plain": [
       "                group  age_x  hire_date  age_y\n",
       "employee                                      \n",
       "Bob        Accounting     20       2004     20\n",
       "Jake      Engineering     42       2008     42\n",
       "Lisa      Engineering     37       2012     37\n",
       "Sue                HR     25       2014     25"
      ]
     },
     "execution_count": 55,
     "metadata": {},
     "output_type": "execute_result"
    }
   ],
   "source": [
    "df1a = df1.set_index('employee')\n",
    "print(df1,'\\n')\n",
    "print(df1a)\n",
    "df2a = df2.set_index('employee')\n",
    "print(df2a)\n",
    "\n",
    "\n",
    "pd.merge(df1a, df2a, left_index=True, right_index=True)"
   ]
  },
  {
   "cell_type": "code",
   "execution_count": null,
   "id": "fb90c78c-cc32-4d33-8f9e-c233182658e6",
   "metadata": {},
   "outputs": [],
   "source": []
  }
 ],
 "metadata": {
  "kernelspec": {
   "display_name": "Python 3",
   "language": "python",
   "name": "python3"
  },
  "language_info": {
   "codemirror_mode": {
    "name": "ipython",
    "version": 3
   },
   "file_extension": ".py",
   "mimetype": "text/x-python",
   "name": "python",
   "nbconvert_exporter": "python",
   "pygments_lexer": "ipython3",
   "version": "3.8.8"
  }
 },
 "nbformat": 4,
 "nbformat_minor": 5
}
