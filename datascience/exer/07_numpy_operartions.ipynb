{
 "cells": [
  {
   "cell_type": "code",
   "execution_count": 1,
   "id": "1da12f77-4189-4b55-bec9-0c58f40656c0",
   "metadata": {},
   "outputs": [],
   "source": [
    "import numpy as np"
   ]
  },
  {
   "cell_type": "code",
   "execution_count": 7,
   "id": "36b59b6e-2e9e-4161-9a15-efdb7abbb4a4",
   "metadata": {},
   "outputs": [
    {
     "name": "stdout",
     "output_type": "stream",
     "text": [
      "[0 1 2]\n",
      "[2 3 4]\n",
      "[1 3 5 7]\n"
     ]
    }
   ],
   "source": [
    "\"\"\"\n",
    "Numpy Array Attributes\n",
    "\"\"\"\n",
    "\n",
    "print(np.arange(3)) # stop\n",
    "print(np.arange(2, 5)) # start, stop\n",
    "print(np.arange(1, 9, 2)) # start, stop, step\n",
    "\n",
    "# Creating an array"
   ]
  },
  {
   "cell_type": "code",
   "execution_count": 44,
   "id": "da566b28-ed38-45cc-b82f-95ff80f90857",
   "metadata": {},
   "outputs": [
    {
     "name": "stdout",
     "output_type": "stream",
     "text": [
      "[12 83 59 85 77]\n",
      "\n",
      "[[47  7 40 43 21]\n",
      " [ 9 13  4 73 59]\n",
      " [12 95 62 13 72]]\n",
      "\n",
      "[[[95 21]\n",
      "  [98 94]\n",
      "  [84 27]\n",
      "  [34 60]\n",
      "  [25 86]]\n",
      "\n",
      " [[ 1 27]\n",
      "  [63 16]\n",
      "  [99 64]\n",
      "  [85  6]\n",
      "  [18 44]]\n",
      "\n",
      " [[ 0 95]\n",
      "  [ 4 47]\n",
      "  [49 27]\n",
      "  [55 97]\n",
      "  [44 13]]]\n"
     ]
    }
   ],
   "source": [
    "# Random number generator\n",
    "\n",
    "\n",
    "arr1 = np.random.randint(99, size=5)\n",
    "print(arr1)\n",
    "print()\n",
    "\n",
    "arr2 = np.random.randint(100, size=(3, 5))\n",
    "print(arr2)\n",
    "print()\n",
    "\n",
    "arr3 = np.random.randint(100, size=(3, 5, 2))\n",
    "print(arr3)\n",
    "\n",
    "# np.random.seed(num):"
   ]
  },
  {
   "cell_type": "code",
   "execution_count": 59,
   "id": "89f35f0d-2766-43f2-8580-5dc9be1672a6",
   "metadata": {},
   "outputs": [
    {
     "name": "stdout",
     "output_type": "stream",
     "text": [
      "arr1.ndim =  1\n",
      "arr2.ndim =  2\n",
      "arr2.shape =  (3, 5)\n",
      "arr3.shape =  (3, 5, 2)\n",
      "arr2.size =  15\n",
      "arr2.dtype =  int32\n",
      "arr2.itemsize =  4\n",
      "arr4.tiemsize =  8\n",
      "arr2.nbytes =  60\n",
      "arr1.nbytes =  20\n"
     ]
    }
   ],
   "source": [
    "# Attributes\n",
    "\n",
    "print(\"arr1.ndim = \", arr1.ndim)\n",
    "print(\"arr2.ndim = \", arr2.ndim)\n",
    "print(\"arr2.shape = \", arr2.shape)\n",
    "print(\"arr3.shape = \", arr3.shape)\n",
    "\n",
    "print(\"arr2.size = \", arr2.size)\n",
    "print(\"arr2.dtype = \", arr2.dtype)\n",
    "print(\"arr2.itemsize = \", arr2.itemsize)\n",
    "\n",
    "arr4 = np.array([1.5 , 2.3, 3.4])\n",
    "print(\"arr4.tiemsize = \", arr4.itemsize)\n",
    "\n",
    "print(\"arr2.nbytes = \", arr2.nbytes)\n",
    "print(\"arr1.nbytes = \", arr1.nbytes)"
   ]
  },
  {
   "cell_type": "code",
   "execution_count": 69,
   "id": "6e94d483-ce7f-434f-8310-f312e945b4a8",
   "metadata": {},
   "outputs": [
    {
     "name": "stdout",
     "output_type": "stream",
     "text": [
      "[[38 36  2 70 83 33 63 58]\n",
      " [11 99 53 23 81 76 56 91]\n",
      " [26 30 40 85  8 56 94 43]\n",
      " [77 80  6 65 12 40 76 53]\n",
      " [74 89 10 90 13 35 11  5]\n",
      " [16  8 35 94 12 41 52 78]]\n",
      "[[38 36  2]\n",
      " [11 99 53]]\n",
      "[[38  2 83 63]\n",
      " [11 53 81 56]\n",
      " [26 40  8 94]]\n"
     ]
    }
   ],
   "source": [
    "arr = np.random.randint(100, size=(6, 8))\n",
    "print(arr)\n",
    "\n",
    "print(arr[:2, :3])\n",
    "print(arr[:3, ::2])\n"
   ]
  },
  {
   "cell_type": "code",
   "execution_count": 71,
   "id": "8e4e01f3-1991-41fd-9643-e7b9af4821cf",
   "metadata": {},
   "outputs": [
    {
     "data": {
      "text/plain": [
       "'\\nSlicing\\n'"
      ]
     },
     "execution_count": 71,
     "metadata": {},
     "output_type": "execute_result"
    }
   ],
   "source": [
    "\"\"\"\n",
    "Slicing\n",
    "\"\"\"\n",
    "\n"
   ]
  },
  {
   "cell_type": "code",
   "execution_count": 80,
   "id": "6333f838-da21-494d-a3bb-ebc988cf853c",
   "metadata": {},
   "outputs": [
    {
     "name": "stdout",
     "output_type": "stream",
     "text": [
      "[[5 8 9 5]\n",
      " [0 0 1 7]\n",
      " [6 9 2 4]] \n",
      "\n",
      "[[5 8]\n",
      " [0 0]] \n",
      "\n",
      "[[-1  8]\n",
      " [ 0  0]] \n",
      "\n",
      "[[-1  8  9  5]\n",
      " [ 0  0  1  7]\n",
      " [ 6  9  2  4]]\n"
     ]
    }
   ],
   "source": [
    "\"\"\"\n",
    "Subarrays as no-copy views\n",
    "\"\"\"\n",
    "np.random.seed(1)\n",
    "arr = np.random.randint(10, size=(3, 4))\n",
    "print(arr, '\\n')\n",
    "\n",
    "\n",
    "arr_sub = arr[:2, :2]\n",
    "print(arr_sub, '\\n')\n",
    "\n",
    "arr_sub[0, 0] = -1\n",
    "print(arr_sub, '\\n')\n",
    "\n",
    "print(arr)\n",
    "\n",
    "#리스트는 복사본을 만들어서 return"
   ]
  },
  {
   "cell_type": "code",
   "execution_count": 81,
   "id": "a9ab6eb5-336e-446e-824d-4a67a350bee8",
   "metadata": {},
   "outputs": [
    {
     "name": "stdout",
     "output_type": "stream",
     "text": [
      "[[5 8 9 5]\n",
      " [0 0 1 7]\n",
      " [6 9 2 4]] \n",
      "\n",
      "[[5 8]\n",
      " [0 0]] \n",
      "\n",
      "[[-1  8]\n",
      " [ 0  0]] \n",
      "\n",
      "[[5 8 9 5]\n",
      " [0 0 1 7]\n",
      " [6 9 2 4]]\n"
     ]
    }
   ],
   "source": [
    "# .copy()\n",
    "\n",
    "np.random.seed(1)\n",
    "arr = np.random.randint(10, size=(3, 4))\n",
    "print(arr, '\\n')\n",
    "\n",
    "arr_sub = arr[:2, :2].copy()\n",
    "print(arr_sub, '\\n')\n",
    "\n",
    "arr_sub[0, 0] = -1\n",
    "print(arr_sub, '\\n')\n",
    "\n",
    "print(arr)"
   ]
  },
  {
   "cell_type": "code",
   "execution_count": 85,
   "id": "3d81a2e7-84ad-455a-a4ac-4479c835099f",
   "metadata": {},
   "outputs": [
    {
     "name": "stdout",
     "output_type": "stream",
     "text": [
      "[1 2 3 4 5 6 7 8 9] \n",
      "\n",
      "[[1 2 3]\n",
      " [4 5 6]\n",
      " [7 8 9]]\n"
     ]
    }
   ],
   "source": [
    "\"\"\"\n",
    "Reshaping of Arrays\n",
    "\"\"\"\n",
    "\n",
    "arr = np.arange(1, 10)\n",
    "print(arr, '\\n')\n",
    "\n",
    "grid = arr.reshape(3, 3)\n",
    "print(grid)"
   ]
  },
  {
   "cell_type": "code",
   "execution_count": 90,
   "id": "23cd9092-11f9-4875-a22b-ee14dc221b42",
   "metadata": {},
   "outputs": [
    {
     "name": "stdout",
     "output_type": "stream",
     "text": [
      "[1 2 3]\n",
      "arr.ndim =  1\n",
      "arr.shape =  (3,) \n",
      "\n",
      "arr_new.ndim =  2\n",
      "arr_new.shape =  (1, 3) \n",
      "\n",
      "arr_new.ndim =  2\n",
      "arr_new.shape =  (1, 3) \n",
      "\n",
      "arr_new2.ndim =  2\n",
      "arr_new2.shape =  (3, 1) \n",
      "\n"
     ]
    }
   ],
   "source": [
    "# np.newaxis\n",
    "\n",
    "arr = np.array([1, 2, 3])\n",
    "print(arr)\n",
    "print(\"arr.ndim = \", arr.ndim)\n",
    "print(\"arr.shape = \", arr.shape, '\\n')\n",
    "\n",
    "arr_new = arr[np.newaxis, :]\n",
    "print(\"arr_new.ndim = \", arr_new.ndim)\n",
    "print(\"arr_new.shape = \", arr_new.shape, '\\n')\n",
    "\n",
    "arr_new = arr[np.newaxis, :]\n",
    "print(\"arr_new.ndim = \", arr_new.ndim)\n",
    "print(\"arr_new.shape = \", arr_new.shape, '\\n')\n",
    "\n",
    "arr_new2 = arr[:, np.newaxis]\n",
    "print(\"arr_new2.ndim = \", arr_new2.ndim)\n",
    "print(\"arr_new2.shape = \", arr_new2.shape, '\\n')\n"
   ]
  },
  {
   "cell_type": "code",
   "execution_count": 96,
   "id": "9e1228f6-6ca0-446e-98d2-170564793ef0",
   "metadata": {},
   "outputs": [
    {
     "name": "stdout",
     "output_type": "stream",
     "text": [
      "[1 2 3 4 5 6 7 8 9]\n",
      "[[1 2 3]\n",
      " [4 5 6]\n",
      " [7 8 9]]\n"
     ]
    }
   ],
   "source": [
    "\"\"\"\n",
    "Array Concatenation\n",
    "\"\"\"\n",
    "\n",
    "arr_1 = np.array([1, 2, 3])\n",
    "arr_2 = np.array([4, 5, 6])\n",
    "arr_3 = np.array([7, 8, 9])\n",
    "\n",
    "arr_total = np.concatenate([arr_1, arr_2, arr_3])\n",
    "print(arr_total)\n",
    "\n",
    "\n",
    "arr_total = np.vstack([arr_1, arr_2, arr_3])\n",
    "print(arr_total)\n",
    "\n",
    "\n"
   ]
  },
  {
   "cell_type": "code",
   "execution_count": 106,
   "id": "ec6c3849-fddb-4a80-963d-da71eb0a9416",
   "metadata": {},
   "outputs": [
    {
     "name": "stdout",
     "output_type": "stream",
     "text": [
      "[1, 2, 3, 99, 99, 3, 2, 1]\n",
      "[1 2 3] [99 99] [3 2 1]\n",
      "[ 1  2  3 99] [99  3  2  1]\n"
     ]
    }
   ],
   "source": [
    "\"\"\"\n",
    "Array Splitting\n",
    "\"\"\"\n",
    "\n",
    "arr = [1, 2, 3, 99, 99, 3, 2, 1]\n",
    "print(arr)\n",
    "\n",
    "arr_1, arr_2, arr_3 = np.split(arr, [3, 5])\n",
    "print(arr_1, arr_2, arr_3)\n",
    "\n",
    "\n",
    "arr_1, arr_2 = np.split(arr, [4])\n",
    "print(arr_1, arr_2)\n"
   ]
  },
  {
   "cell_type": "code",
   "execution_count": null,
   "id": "25176cf0-a9b7-4029-9700-e04cecd5563d",
   "metadata": {},
   "outputs": [],
   "source": []
  }
 ],
 "metadata": {
  "kernelspec": {
   "display_name": "Python 3",
   "language": "python",
   "name": "python3"
  },
  "language_info": {
   "codemirror_mode": {
    "name": "ipython",
    "version": 3
   },
   "file_extension": ".py",
   "mimetype": "text/x-python",
   "name": "python",
   "nbconvert_exporter": "python",
   "pygments_lexer": "ipython3",
   "version": "3.8.8"
  }
 },
 "nbformat": 4,
 "nbformat_minor": 5
}
