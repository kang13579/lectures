{
 "cells": [
  {
   "cell_type": "code",
   "execution_count": 4,
   "id": "c15ac054-798e-49f0-9ab1-92ea56cdc5e2",
   "metadata": {},
   "outputs": [
    {
     "name": "stderr",
     "output_type": "stream",
     "text": [
      "<ipython-input-4-0c95b2fc7292>:3: FutureWarning: The pandas.datetime class is deprecated and will be removed from pandas in a future version. Import from datetime module instead.\n",
      "  from pandas import datetime\n"
     ]
    }
   ],
   "source": [
    "import pandas as pd\n",
    "import numpy as np\n",
    "from pandas import datetime\n",
    "from matplotlib import pyplot as plt"
   ]
  },
  {
   "cell_type": "code",
   "execution_count": 5,
   "id": "4a90eb36-96b7-4839-89b3-8f3893cc653b",
   "metadata": {},
   "outputs": [
    {
     "name": "stdout",
     "output_type": "stream",
     "text": [
      "Using matplotlib backend: Qt5Agg\n"
     ]
    }
   ],
   "source": [
    "def parser(x):\n",
    "    return datetime.strptime(x, '%Y-%m-%d %H:%M:%S')\n",
    "\n",
    "input_file = './data/AirQualityUCI_refined.csv'\n",
    "\n",
    "df = pd.read_csv(input_file,\n",
    "                 index_col=[0],\n",
    "                 parse_dates=[0],\n",
    "                 date_parser=parser)\n",
    "\n",
    "df\n",
    "\n",
    "\n",
    "# Visualization setup\n",
    "%matplotlib\n",
    "%config InlineBackend.figure_format = 'svg'\n",
    "\n",
    "from matplotlib import pyplot as plt\n",
    "plt.rcParams['figure.figsize'] = [10, 5]\n",
    "plt.ion() # enable the interactive mode\n",
    "\n",
    "import seaborn as sns\n",
    "sns.set()  # set plot styles"
   ]
  },
  {
   "cell_type": "code",
   "execution_count": 6,
   "id": "3c78b912-3c5f-40ac-8ce3-583443ae7c1d",
   "metadata": {},
   "outputs": [
    {
     "name": "stdout",
     "output_type": "stream",
     "text": [
      "<class 'pandas.core.frame.DataFrame'>\n",
      "DatetimeIndex: 9357 entries, 2004-03-10 18:00:00 to 2005-04-04 14:00:00\n",
      "Data columns (total 11 columns):\n",
      " #   Column         Non-Null Count  Dtype  \n",
      "---  ------         --------------  -----  \n",
      " 0   CO(GT)         9357 non-null   float64\n",
      " 1   PT08.S1(CO)    9357 non-null   float64\n",
      " 2   PT08.S2(NMHC)  9357 non-null   float64\n",
      " 3   NOx(GT)        9357 non-null   float64\n",
      " 4   PT08.S3(NOx)   9357 non-null   float64\n",
      " 5   NO2(GT)        9357 non-null   float64\n",
      " 6   PT08.S4(NO2)   9357 non-null   float64\n",
      " 7   PT08.S5(O3)    9357 non-null   float64\n",
      " 8   RH             9357 non-null   float64\n",
      " 9   AH             9357 non-null   float64\n",
      " 10  C6H6(GT)       9357 non-null   float64\n",
      "dtypes: float64(11)\n",
      "memory usage: 877.2 KB\n"
     ]
    }
   ],
   "source": [
    "df.interpolate(inplace=True)\n",
    "df.info()"
   ]
  },
  {
   "cell_type": "code",
   "execution_count": 7,
   "id": "fba15ea6-054b-4d74-a05f-d57f2f1b013e",
   "metadata": {},
   "outputs": [
    {
     "data": {
      "text/plain": [
       "Datetime\n",
       "2004-03-10 18:00:00    2.6\n",
       "2004-03-10 19:00:00    2.0\n",
       "2004-03-10 20:00:00    2.2\n",
       "2004-03-10 21:00:00    2.2\n",
       "2004-03-10 22:00:00    1.6\n",
       "                      ... \n",
       "2005-04-04 10:00:00    3.1\n",
       "2005-04-04 11:00:00    2.4\n",
       "2005-04-04 12:00:00    2.4\n",
       "2005-04-04 13:00:00    2.1\n",
       "2005-04-04 14:00:00    2.2\n",
       "Name: CO(GT), Length: 9357, dtype: float64"
      ]
     },
     "execution_count": 7,
     "metadata": {},
     "output_type": "execute_result"
    }
   ],
   "source": [
    "\"\"\"\n",
    "Correlation Matrix\n",
    "\"\"\"\n",
    "sns.pairplot(df, kind='reg', diag_kind='kde',\n",
    "             plot_kws={'scatter_kws': {'alpha': 0.1}})"
   ]
  },
  {
   "cell_type": "code",
   "execution_count": 10,
   "id": "e79f18b7-3cce-44fc-9a34-a22fed32ddb5",
   "metadata": {},
   "outputs": [
    {
     "data": {
      "text/plain": [
       "Datetime\n",
       "2004-03-10 18:00:00    2.6\n",
       "2004-03-10 19:00:00    2.0\n",
       "2004-03-10 20:00:00    2.2\n",
       "2004-03-10 21:00:00    2.2\n",
       "2004-03-10 22:00:00    1.6\n",
       "                      ... \n",
       "2005-04-04 10:00:00    3.1\n",
       "2005-04-04 11:00:00    2.4\n",
       "2005-04-04 12:00:00    2.4\n",
       "2005-04-04 13:00:00    2.1\n",
       "2005-04-04 14:00:00    2.2\n",
       "Name: CO(GT), Length: 9357, dtype: float64"
      ]
     },
     "execution_count": 10,
     "metadata": {},
     "output_type": "execute_result"
    }
   ],
   "source": [
    "# Prepare a feature set\n",
    "X = df.iloc[:, 1:]    # input features\n",
    "X\n",
    "\n",
    "y = df.iloc[:, 0]    # target variable\n",
    "y"
   ]
  },
  {
   "cell_type": "code",
   "execution_count": 8,
   "id": "ef0452f2-1350-4577-af19-79b7e12a4fdc",
   "metadata": {},
   "outputs": [
    {
     "data": {
      "text/plain": [
       "RandomForestRegressor()"
      ]
     },
     "execution_count": 8,
     "metadata": {},
     "output_type": "execute_result"
    }
   ],
   "source": [
    "\"\"\"\n",
    "Feature Importance\n",
    "\"\"\"\n",
    "\n",
    "# Create and train model for regression\n",
    "\n",
    "from sklearn.ensemble import RandomForestRegressor\n",
    "\n",
    "model = RandomForestRegressor()\n",
    "model.fit(X, y)"
   ]
  },
  {
   "cell_type": "code",
   "execution_count": 11,
   "id": "dfd85fb7-5e6e-469e-998c-121543766c88",
   "metadata": {},
   "outputs": [
    {
     "name": "stdout",
     "output_type": "stream",
     "text": [
      "[0.05789319 0.53806326 0.20442004 0.01894337 0.04035293 0.01884142\n",
      " 0.01770734 0.01473972 0.02464731 0.06439142]\n"
     ]
    }
   ],
   "source": [
    "print(model.feature_importances_)"
   ]
  },
  {
   "cell_type": "code",
   "execution_count": 12,
   "id": "01057048-011c-4a7e-9528-425e1dc7b7ce",
   "metadata": {},
   "outputs": [],
   "source": [
    "feat_importances = pd.Series(model.feature_importances_, index=X.columns)\n",
    "feat_importances.nlargest(10).plot(kind='barh')\n",
    "plt.show()"
   ]
  },
  {
   "cell_type": "code",
   "execution_count": null,
   "id": "fccbf1d7-af87-47dc-842f-6cad003deee5",
   "metadata": {},
   "outputs": [],
   "source": []
  }
 ],
 "metadata": {
  "kernelspec": {
   "display_name": "Python 3",
   "language": "python",
   "name": "python3"
  },
  "language_info": {
   "codemirror_mode": {
    "name": "ipython",
    "version": 3
   },
   "file_extension": ".py",
   "mimetype": "text/x-python",
   "name": "python",
   "nbconvert_exporter": "python",
   "pygments_lexer": "ipython3",
   "version": "3.8.8"
  }
 },
 "nbformat": 4,
 "nbformat_minor": 5
}
