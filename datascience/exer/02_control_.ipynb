{
 "cells": [
  {
   "cell_type": "code",
   "execution_count": 1,
   "id": "cf9b9c92-8226-46c9-87d0-3b2c8322862c",
   "metadata": {},
   "outputs": [
    {
     "name": "stdout",
     "output_type": "stream",
     "text": [
      "<class 'bool'>\n"
     ]
    }
   ],
   "source": [
    "is_tested = True\n",
    "\n",
    "print(type(is_tested))"
   ]
  },
  {
   "cell_type": "code",
   "execution_count": 2,
   "id": "9d16d1dc-4275-4a23-bf5d-8e629a366ac0",
   "metadata": {},
   "outputs": [
    {
     "name": "stdout",
     "output_type": "stream",
     "text": [
      "True\n",
      "True\n",
      "False\n"
     ]
    }
   ],
   "source": [
    "print(\"Yes\" == 'Yes')\n",
    "print((2 > 1)== (5 < 10))\n",
    "c= '2'\n",
    "d=2\n",
    "print((c==d))"
   ]
  },
  {
   "cell_type": "code",
   "execution_count": 5,
   "id": "290dfae7-1b9b-4daa-a717-ede25274ac19",
   "metadata": {},
   "outputs": [
    {
     "name": "stdout",
     "output_type": "stream",
     "text": [
      "[ERROR]: y is noe declared\n",
      "continue\n"
     ]
    }
   ],
   "source": [
    "\"\"\"\n",
    "Exceprion Handing\n",
    "\"\"\"\n",
    "\n",
    "x = 1\n",
    "\n",
    "try:\n",
    "    print(y)\n",
    "    print(x)    \n",
    "except:\n",
    "    print(\"[ERROR]: y is noe declared\")\n",
    "    \n",
    "print(\"continue\")"
   ]
  }
 ],
 "metadata": {
  "kernelspec": {
   "display_name": "Python 3",
   "language": "python",
   "name": "python3"
  },
  "language_info": {
   "codemirror_mode": {
    "name": "ipython",
    "version": 3
   },
   "file_extension": ".py",
   "mimetype": "text/x-python",
   "name": "python",
   "nbconvert_exporter": "python",
   "pygments_lexer": "ipython3",
   "version": "3.8.8"
  }
 },
 "nbformat": 4,
 "nbformat_minor": 5
}
