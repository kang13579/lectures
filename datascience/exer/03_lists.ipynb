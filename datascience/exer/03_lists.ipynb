{
 "cells": [
  {
   "cell_type": "code",
   "execution_count": 4,
   "id": "b2fea472-82da-48d6-8ecb-99d8cdf53045",
   "metadata": {},
   "outputs": [
    {
     "name": "stdout",
     "output_type": "stream",
     "text": [
      "[2, 3, 5, 7, 11]\n",
      "[]\n"
     ]
    },
    {
     "data": {
      "text/plain": [
       "list"
      ]
     },
     "execution_count": 4,
     "metadata": {},
     "output_type": "execute_result"
    }
   ],
   "source": [
    "\"\"\"\n",
    "list\n",
    "\"\"\"\n",
    "\n",
    "primes = [2, 3, 5, 7, 11]\n",
    "\n",
    "print(primes)\n",
    "\n",
    "empty_list=[]\n",
    "print(empty_list)\n",
    "type(empty_list)"
   ]
  },
  {
   "cell_type": "code",
   "execution_count": 7,
   "id": "e5acbc03-7aa4-4f1d-8db5-5a42671cab86",
   "metadata": {},
   "outputs": [
    {
     "name": "stdout",
     "output_type": "stream",
     "text": [
      "['Jenny', 1, 1.4, True]\n",
      "[['a', 1], ['b', 2]]\n"
     ]
    }
   ],
   "source": [
    "\"\"\"\n",
    "Multiple different data types\n",
    "\"\"\"\n",
    "\n",
    "mixed = ['Jenny', 1, 1.4, True]\n",
    "list_of_list = [['a',1], ['b', 2]]\n",
    "\n",
    "print(mixed)\n",
    "print(list_of_list)"
   ]
  },
  {
   "cell_type": "code",
   "execution_count": 1,
   "id": "7c73db70-8aa4-49cc-b224-af1503dc36fb",
   "metadata": {},
   "outputs": [
    {
     "name": "stdout",
     "output_type": "stream",
     "text": [
      "Roger\n",
      "Rafael\n",
      "Andy\n",
      "Novak\n"
     ]
    }
   ],
   "source": [
    "\"\"\"\n",
    "Zeo-indexing\n",
    "\"\"\"\n",
    "\n",
    "names = ['Roger', 'Rafael', 'Andy', 'Novak']\n",
    "\n",
    "print(names[0])\n",
    "print(names[1])\n",
    "print(names[2])\n",
    "print(names[3])"
   ]
  },
  {
   "cell_type": "code",
   "execution_count": 4,
   "id": "3206e811-3496-4635-ab13-cf645babd67b",
   "metadata": {},
   "outputs": [
    {
     "name": "stdout",
     "output_type": "stream",
     "text": [
      "Novak\n",
      "Andy\n",
      "Rafael\n",
      "Roger\n"
     ]
    }
   ],
   "source": [
    "\"\"\"\n",
    "Negative indexing\n",
    "\"\"\"\n",
    "\n",
    "print(names[-1])\n",
    "print(names[-2])\n",
    "print(names[-3])\n",
    "print(names[-4])"
   ]
  },
  {
   "cell_type": "code",
   "execution_count": 12,
   "id": "3e8c7ade-fdc9-40a4-8f79-1fd652a5734f",
   "metadata": {},
   "outputs": [
    {
     "name": "stdout",
     "output_type": "stream",
     "text": [
      "['생활관', '필헌관', '소통관']\n",
      "['만우관', '장공관', '필헌관', '소통관', '송암관', '늦봄관', '장준하통일관']\n",
      "['만우관', '장공관', '필헌관', '소통관', '송암관', '늦봄관', '장준하통일관']\n"
     ]
    }
   ],
   "source": [
    "\"\"\"\n",
    "List slicing\n",
    "\"\"\"\n",
    "\n",
    "hsu_buildings = ['만우관', '장공관', '필헌관', '소통관', '송암관', '늦봄관', '장준하통일관']\n",
    "building_slice = hsu_buildings[1:4] # 독립적인 객체\n",
    "building_slice[0] = '생활관'\n",
    "\n",
    "\n",
    "print(building_slice)\n",
    "print(hsu_buildings)\n",
    "print(hsu_buildings[:])"
   ]
  },
  {
   "cell_type": "code",
   "execution_count": 23,
   "id": "904dfd4f-b7c6-4f67-8826-e13a59acd05e",
   "metadata": {},
   "outputs": [
    {
     "name": "stdout",
     "output_type": "stream",
     "text": [
      "중화비빔밥\n",
      "\n",
      "[['해우리', '한식', '고S'], ['짜장명가', '중식', '중화비빔밥'], ['찌개동아리', '한식', '제육전골'], ['맘스터치', '양식', '싸이버거']]\n",
      "\n",
      "['해우리', '한식', '해우라면']\n"
     ]
    }
   ],
   "source": [
    "\"\"\"\n",
    "Multi-dimensional Lists\n",
    "\"\"\"\n",
    "\n",
    "restaurants = [['해우리', '한식', '고S'], ['짜장명가', '중식', '중화비빔밥'],\n",
    "              ['찌개동아리', '한식', '제육전골'], ['맘스터치', '양식', '싸이버거']]\n",
    "               \n",
    "print(restaurants[1][2])\n",
    "print()\n",
    "print(restaurants)\n",
    "print()\n",
    "restaurants[0][2] = '해우라면'\n",
    "print(restaurants[0])\n",
    "\n"
   ]
  },
  {
   "cell_type": "code",
   "execution_count": 25,
   "id": "ab9879ee-028c-4b30-9494-e0a0b06430b3",
   "metadata": {},
   "outputs": [
    {
     "name": "stdout",
     "output_type": "stream",
     "text": [
      "['cake', 'cookie', 'bread', 'biscuit', 'tart']\n"
     ]
    }
   ],
   "source": [
    "\"\"\"\n",
    "Adding Lists Together\n",
    "\"\"\"\n",
    "\n",
    "items_one = ['cake', 'cookie', 'bread']\n",
    "items_two = ['biscuit', 'tart']\n",
    "\n",
    "total_items = items_one + items_two\n",
    "print(total_items)"
   ]
  },
  {
   "cell_type": "code",
   "execution_count": 32,
   "id": "706df846-81ac-4112-a8a8-4e3ade3bcdb7",
   "metadata": {},
   "outputs": [
    {
     "name": "stdout",
     "output_type": "stream",
     "text": [
      "5\n",
      "['daisies', 'periwinkle', 'tulips']\n",
      "['Karla', 'Maxium', 'Vikor', 'Martin', ' Isabella']\n",
      "[1, 2, 3, 4]\n",
      "['늦봄관', '만우관', '소통관', '송암관', '장공관', '장준하통일관', '필헌관']\n"
     ]
    }
   ],
   "source": [
    "\"\"\"\n",
    "Useful Methods for Lists\n",
    "\"\"\"\n",
    "\n",
    "# Len()\n",
    "knapsack = [2, 4, 3, 7, 10]\n",
    "size = len(knapsack)\n",
    "print(size)\n",
    "\n",
    "# append()\n",
    "orders = ['daisies', 'periwinkle']\n",
    "orders.append('tulips')\n",
    "print(orders)\n",
    "\n",
    "# insert()\n",
    "store_line = ['Karla', 'Maxium', 'Martin', ' Isabella']\n",
    "store_line.insert(2, 'Vikor')\n",
    "print(store_line)\n",
    "\n",
    "# sort()\n",
    "numbers = [4, 2, 1, 3]\n",
    "numbers.sort()\n",
    "print(numbers)\n",
    "\n",
    "hsu_buildings = ['만우관', '장공관', '필헌관', '소통관', '송암관', '늦봄관', '장준하통일관']\n",
    "hsu_buildings.sort()\n",
    "print(hsu_buildings)"
   ]
  },
  {
   "cell_type": "code",
   "execution_count": 43,
   "id": "89a06f59-91bf-43ee-860e-8f3e83f08e06",
   "metadata": {},
   "outputs": [
    {
     "name": "stdout",
     "output_type": "stream",
     "text": [
      "6\n",
      "[1, 1, 2, 3, 4, 5, 6]\n",
      "7\n",
      "[1, 1, 2, 3, 3, 4, 5, 6]\n",
      "[1, 2, 3, 3, 4, 5, 6]\n",
      "[1, 2, 3, 3, 4, 5]\n",
      "[1, 2, 3, 3, 4]\n",
      "[1, 2, 3, 4]\n",
      "[1, 2, 3, 5, 7, 8]\n",
      "[1, 2, 3, 5, 7, 8]\n"
     ]
    }
   ],
   "source": [
    "methods = [1, 1, 2, 3, 4, 5]\n",
    "size = len(methods)\n",
    "print(size)\n",
    "\n",
    "methods.count(1)\n",
    "\n",
    "methods.append(6)\n",
    "print(methods)\n",
    "size = len(methods)\n",
    "print(size)\n",
    "\n",
    "methods.insert(4,3)\n",
    "print(methods)\n",
    "\n",
    "methods.pop(1)\n",
    "print(methods)\n",
    "\n",
    "methods.pop()\n",
    "print(methods)\n",
    "\n",
    "methods.remove(5)\n",
    "print(methods)\n",
    "\n",
    "methods.remove(3)\n",
    "print(methods)\n",
    "\n",
    "numbers = [5, 3, 8, 7, 1, 2]\n",
    "numbers.sort()\n",
    "print(numbers)\n",
    "\n",
    "sorted_numbers = sorted(numbers)\n",
    "print(sorted_numbers)"
   ]
  },
  {
   "cell_type": "code",
   "execution_count": null,
   "id": "78ed9177-8833-4afc-9257-8364ba2f4bd8",
   "metadata": {},
   "outputs": [],
   "source": []
  }
 ],
 "metadata": {
  "kernelspec": {
   "display_name": "Python 3",
   "language": "python",
   "name": "python3"
  },
  "language_info": {
   "codemirror_mode": {
    "name": "ipython",
    "version": 3
   },
   "file_extension": ".py",
   "mimetype": "text/x-python",
   "name": "python",
   "nbconvert_exporter": "python",
   "pygments_lexer": "ipython3",
   "version": "3.8.8"
  }
 },
 "nbformat": 4,
 "nbformat_minor": 5
}
