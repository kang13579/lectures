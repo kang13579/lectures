{
 "cells": [
  {
   "cell_type": "code",
   "execution_count": 2,
   "id": "559f2c11-610d-4a5b-ad1c-dc9b4c6c25a9",
   "metadata": {},
   "outputs": [
    {
     "name": "stdout",
     "output_type": "stream",
     "text": [
      "Hello World\n",
      "100\n",
      "3.14\n",
      "My name is Kang Eun Lee and I'm tired.\n"
     ]
    }
   ],
   "source": [
    "\"\"\"\n",
    "print() Function\n",
    "\"\"\"\n",
    "\n",
    "print(\"Hello World\")\n",
    "print(100)\n",
    "pi =  3.14\n",
    "print(pi)\n",
    "introduce = \"My name is \"\n",
    "name = \"Kang Eun Lee\"\n",
    "print(introduce + name + \" and I'm tired.\")"
   ]
  },
  {
   "cell_type": "code",
   "execution_count": 3,
   "id": "47785f7b-785f-4372-8c83-997ac321d31b",
   "metadata": {},
   "outputs": [],
   "source": [
    "\"\"\"\n",
    "\n",
    "Variables\n",
    "\"\"\"\n",
    "\n",
    "\n",
    "user_name = \"Kang Eun Lee\"\n",
    "user_id = 201837014\n",
    "user_email = 'kul03283059@hs.ac.kr'\n",
    "is_student = True\n",
    "my_eyes = 0.6\n",
    "type(my_eyes)\n",
    "\n",
    "\n",
    "user_hobby = 'guitar'\n",
    "have_girlfriend = False\n",
    "user_tall = 168"
   ]
  },
  {
   "cell_type": "code",
   "execution_count": 4,
   "id": "454147e8-a972-4fad-850d-6abccd04bfa2",
   "metadata": {},
   "outputs": [
    {
     "name": "stdout",
     "output_type": "stream",
     "text": [
      "x =  1\n",
      "Address of x:  140707054757680\n",
      "x =  2\n",
      "Address of x:  140707054757712\n"
     ]
    }
   ],
   "source": [
    "\"\"\"\n",
    "Variable: Assignment\n",
    "\"\"\"\n",
    "\n",
    "x = 1\n",
    "print('x = ', x)\n",
    "print(\"Address of x: \", id(x))\n",
    "\n",
    "x = 2\n",
    "print('x = ', x)\n",
    "print(\"Address of x: \", id(x))"
   ]
  },
  {
   "cell_type": "code",
   "execution_count": 5,
   "id": "819d6072-a4c5-45c8-b7cb-4906925615a8",
   "metadata": {},
   "outputs": [],
   "source": [
    "\"\"\"\n",
    "Data Types: Integers\n",
    "\"\"\"\n",
    "\n",
    "#본인 집에 있는 사물의 개수를 정수 유형의 변수로 \n",
    "\n",
    "pc = 1\n",
    "laptop = 2\n",
    "air_fryer = 1\n",
    "soju = -2\n",
    "\n"
   ]
  },
  {
   "cell_type": "code",
   "execution_count": 6,
   "id": "0c5885fe-14f1-430b-b25c-c03291f524f8",
   "metadata": {},
   "outputs": [],
   "source": [
    "\"\"\"\n",
    "Data Types: Real Numbers\n",
    "\"\"\"\n",
    "\n",
    "pi = 3.14\n",
    "kospi_index = 3125.76\n",
    "kew_usd_exchange = 1176.83\n",
    "\n",
    "\n",
    "\n",
    "\n",
    "#내가 아는 실수\n",
    "\n",
    "Golden_Ratio = 1.618\n",
    "Eulerian_number = 2.718281828459045\n",
    "mee_an_kp = 0.05 #안약에 포함된 포도당"
   ]
  },
  {
   "cell_type": "code",
   "execution_count": 8,
   "id": "59b9b355-d038-4682-ac9f-ec4eb468270d",
   "metadata": {},
   "outputs": [
    {
     "name": "stdout",
     "output_type": "stream",
     "text": [
      "Best is Best, Starcraft, Sonny\n",
      "Assassin's creed, Yerin Baek, whiplash\n"
     ]
    }
   ],
   "source": [
    "\"\"\"\n",
    "Data Types: String\n",
    "\"\"\"\n",
    "\n",
    "favorite_motto = \"Best is Best\"\n",
    "favorite_game = \"Starcraft\"\n",
    "favorite_athelete = \"Sonny\"\n",
    "\n",
    "favorite = favorite_motto + ', ' + favorite_game + ', ' + favorite_athelete\n",
    "print(favorite)\n",
    "\n",
    "\n",
    "\n",
    "\n",
    "#본인이 좋아하는 것들을 문자열의 변수로 정의하세요\n",
    "\n",
    "favorite_game = \"Assassin's creed\"\n",
    "favorite_artist = \"Yerin Baek\"\n",
    "favorite_movie = \"whiplash\"\n",
    "\n",
    "favorite = favorite_game + ', ' + favorite_artist + ', ' + favorite_movie\n",
    "print(favorite)"
   ]
  },
  {
   "cell_type": "code",
   "execution_count": 37,
   "id": "0b7dab36-64ef-4e68-b4c7-68e1f4dfa85a",
   "metadata": {},
   "outputs": [
    {
     "name": "stdout",
     "output_type": "stream",
     "text": [
      "[ERROR]: y is noe declared\n",
      "continue\n"
     ]
    }
   ],
   "source": [
    "\"\"\"\n",
    "Exceprion Handing\n",
    "\"\"\"\n",
    "\n",
    "x = 1\n",
    "\n",
    "try:\n",
    "    print(y)\n",
    "    print(x)    \n",
    "except:\n",
    "    print(\"[ERROR]: y is noe declared\")\n",
    "    \n",
    "print(\"continue\")"
   ]
  },
  {
   "cell_type": "code",
   "execution_count": null,
   "id": "0ebbbd08-433d-4d8b-94cd-d57a6f896655",
   "metadata": {},
   "outputs": [],
   "source": []
  }
 ],
 "metadata": {
  "kernelspec": {
   "display_name": "Python 3",
   "language": "python",
   "name": "python3"
  },
  "language_info": {
   "codemirror_mode": {
    "name": "ipython",
    "version": 3
   },
   "file_extension": ".py",
   "mimetype": "text/x-python",
   "name": "python",
   "nbconvert_exporter": "python",
   "pygments_lexer": "ipython3",
   "version": "3.8.8"
  }
 },
 "nbformat": 4,
 "nbformat_minor": 5
}
