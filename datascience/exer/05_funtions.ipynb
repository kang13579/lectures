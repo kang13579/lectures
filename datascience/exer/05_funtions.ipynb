{
 "cells": [
  {
   "cell_type": "code",
   "execution_count": 5,
   "id": "5ffc1f93-f7a6-42b9-8879-eb42e6c61772",
   "metadata": {},
   "outputs": [
    {
     "name": "stdout",
     "output_type": "stream",
     "text": [
      "3\n",
      "2\n"
     ]
    }
   ],
   "source": [
    "\"\"\"\n",
    "Funtions vs Mthod\n",
    "\"\"\"\n",
    "#Define a functin\n",
    "def my_funtion(x):\n",
    "    return x+1\n",
    "y=2\n",
    "result = my_funtion(y)\n",
    "print(result)\n",
    "\n",
    "#Method\n",
    "\n",
    "x=1\n",
    "\n",
    "class my_class:\n",
    "    def my_method(self):\n",
    "        return x+1\n",
    "    \n",
    "cls = my_class()\n",
    "\n",
    "print(cls.my_method())\n",
    "\n"
   ]
  },
  {
   "cell_type": "code",
   "execution_count": 6,
   "id": "04e0f776-61cc-4852-a666-5f54ab6dd68e",
   "metadata": {},
   "outputs": [
    {
     "name": "stdout",
     "output_type": "stream",
     "text": [
      "Hello everyone, my name is KangEun Lee, I was born in 1999,     and I live in Cheonan\n"
     ]
    }
   ],
   "source": [
    "\"\"\"\n",
    "Function Parameters\n",
    "\"\"\"\n",
    "\n",
    "def introduce_myself(name, birthyear, city):\n",
    "    print(\"Hello everyone, my name is %s, I was born in %d, \\\n",
    "    and I live in %s\" %(name, birthyear, city))\n",
    "    \n",
    "introduce_myself(\"KangEun Lee\", 1999, \"Cheonan\")"
   ]
  },
  {
   "cell_type": "code",
   "execution_count": 10,
   "id": "3dfd624b-c704-4f3e-99ea-63a3ff83c59f",
   "metadata": {},
   "outputs": [
    {
     "name": "stdout",
     "output_type": "stream",
     "text": [
      "2020 is a leap year\n"
     ]
    }
   ],
   "source": [
    "\"\"\"\n",
    "Return Keyword\n",
    "\"\"\"\n",
    "\n",
    "# Leap year = 윤년\n",
    "def check_leap_year(year):\n",
    "    if year % 4 == 0:\n",
    "        return \"%d is a leap year\" % (year)\n",
    "    else :\n",
    "        return \"%d is not a leap year\" % (year)\n",
    "    \n",
    "print(check_leap_year(2020))\n",
    "\n"
   ]
  },
  {
   "cell_type": "code",
   "execution_count": 11,
   "id": "3f231051-d0ce-439f-a540-311581c519bd",
   "metadata": {},
   "outputs": [
    {
     "name": "stdout",
     "output_type": "stream",
     "text": [
      "9 16 25\n"
     ]
    }
   ],
   "source": [
    "\"\"\"\n",
    "Returning Multiple Values\n",
    "\"\"\"\n",
    "\n",
    "def square_point(x, y, z):\n",
    "    x_squared = x ** 2\n",
    "    y_squared = y ** 2\n",
    "    z_squared = z ** 2\n",
    "    return x_squared, y_squared, z_squared\n",
    "\n",
    "\n",
    "three_squared, four_squared, five_squared = square_point(3,4,5)\n",
    "print(three_squared, four_squared, five_squared)"
   ]
  },
  {
   "cell_type": "code",
   "execution_count": 14,
   "id": "6fd0a038-3d53-4ab2-86ea-5a58020f418b",
   "metadata": {},
   "outputs": [
    {
     "name": "stdout",
     "output_type": "stream",
     "text": [
      "Hello\n"
     ]
    }
   ],
   "source": [
    "\"\"\"\n",
    "Global Variables\n",
    "\"\"\"\n",
    "\n",
    "a = \"Hello\"\n",
    "\n",
    "def prints_a():\n",
    "    print(a)\n",
    "    \n",
    "prints_a()"
   ]
  },
  {
   "cell_type": "code",
   "execution_count": 26,
   "id": "55c1562f-f1bf-40bf-ba5d-e6e7364002ec",
   "metadata": {},
   "outputs": [
    {
     "name": "stdout",
     "output_type": "stream",
     "text": [
      "5\n"
     ]
    }
   ],
   "source": [
    "\"\"\"\n",
    "Local Variables\n",
    "\"\"\"\n",
    "\n",
    "a = 5 #global var.\n",
    "\n",
    "def f1():\n",
    "    #a=3 #local var.\n",
    "    print(a)\n",
    "\n",
    "\n",
    "f1()"
   ]
  },
  {
   "cell_type": "code",
   "execution_count": 41,
   "id": "3d7260e0-1a8b-41b6-b6c9-e40ede2855be",
   "metadata": {},
   "outputs": [
    {
     "name": "stdout",
     "output_type": "stream",
     "text": [
      "Height = 1\n",
      "Width = 2\n",
      "Depth =  3\n",
      "\n",
      "Height = 1\n",
      "Width = 2\n",
      "Depth =  3\n",
      "\n",
      "Height = 3\n",
      "Width = 2\n",
      "Depth =  1\n",
      "\n",
      "Height = 3\n",
      "Width = 2\n",
      "Depth =  1\n",
      "\n",
      "Height = 1\n",
      "Width = 1\n",
      "Depth =  1\n"
     ]
    }
   ],
   "source": [
    "\"\"\"\n",
    "Keyword Arguments and Default Values\n",
    "\"\"\"\n",
    "\n",
    "def findvolume(height=1, Width=1, depth=1):\n",
    "    print(\"Height = \" + str(height))\n",
    "    print(\"Width = \" + str(Width))\n",
    "    print(\"Depth = \", depth)\n",
    "    \n",
    "\n",
    "\n",
    "findvolume(1, 2, 3)\n",
    "print()\n",
    "findvolume(depth = 3, Width = 2, height = 1)\n",
    "print()\n",
    "findvolume(3, 2, 1)\n",
    "print()\n",
    "findvolume(3,2)\n",
    "print()\n",
    "findvolume()"
   ]
  },
  {
   "cell_type": "code",
   "execution_count": null,
   "id": "a878bfd7-6435-4878-b4e9-6cbf68fbcf59",
   "metadata": {},
   "outputs": [],
   "source": []
  }
 ],
 "metadata": {
  "kernelspec": {
   "display_name": "Python 3",
   "language": "python",
   "name": "python3"
  },
  "language_info": {
   "codemirror_mode": {
    "name": "ipython",
    "version": 3
   },
   "file_extension": ".py",
   "mimetype": "text/x-python",
   "name": "python",
   "nbconvert_exporter": "python",
   "pygments_lexer": "ipython3",
   "version": "3.8.8"
  }
 },
 "nbformat": 4,
 "nbformat_minor": 5
}
