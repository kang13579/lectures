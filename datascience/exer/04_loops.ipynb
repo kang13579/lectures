{
 "cells": [
  {
   "cell_type": "code",
   "execution_count": 9,
   "id": "f599c786-84a8-4ef1-8d25-91f3398b3f71",
   "metadata": {},
   "outputs": [
    {
     "name": "stdout",
     "output_type": "stream",
     "text": [
      "1\n",
      "2\n",
      "3\n",
      "4\n",
      "5\n",
      "\n",
      "0\n",
      "1\n",
      "2\n",
      "3\n",
      "4\n",
      "5\n",
      "6\n",
      "7\n",
      "8\n",
      "9\n"
     ]
    }
   ],
   "source": [
    "\"\"\"\n",
    "for Loops\n",
    "\"\"\"\n",
    "\n",
    "nums = [1, 2, 3, 4, 5]\n",
    "\n",
    "for num in nums :\n",
    "    print(num)\n",
    "    \n",
    "# range()\n",
    "\n",
    "nums = range(10)\n",
    "print()\n",
    "\n",
    "for num in nums:\n",
    "    print(num)"
   ]
  },
  {
   "cell_type": "code",
   "execution_count": 15,
   "id": "8be66a90-8c10-4b2c-83b5-7327fcea0127",
   "metadata": {},
   "outputs": [
    {
     "name": "stdout",
     "output_type": "stream",
     "text": [
      "1\n",
      "2\n"
     ]
    }
   ],
   "source": [
    "\"\"\"\n",
    "continue Keyword\n",
    "\"\"\"\n",
    "\n",
    "nums = [1, 2, -1, 4, -5, 5, 2, -9]\n",
    "\n",
    "for num in nums:\n",
    "    # If num is negative, we skip it.\n",
    "    if num < 0:\n",
    "        continue    \n",
    "    print(num)\n",
    "    \n"
   ]
  },
  {
   "cell_type": "code",
   "execution_count": 23,
   "id": "fdc8dd62-3c18-466f-985c-a74119e06d96",
   "metadata": {},
   "outputs": [
    {
     "name": "stdout",
     "output_type": "stream",
     "text": [
      "stage1 is complete\n",
      "stage2 is complete\n",
      "stage3 is complete\n",
      "gave is over...\n"
     ]
    }
   ],
   "source": [
    "\"\"\"\n",
    "break Keyword\n",
    "\"\"\"\n",
    "\n",
    "game_plays = ['stage1','stage2','stage3','gameover','stage4','stage5']\n",
    "\n",
    "for play in game_plays:\n",
    "    if play == 'gameover' :\n",
    "        print('gave is over...')\n",
    "        break\n",
    "\n",
    "    print(play + \" is complete\")"
   ]
  },
  {
   "cell_type": "code",
   "execution_count": 28,
   "id": "5485eef5-0087-47f6-bb9d-f527f1b47a3e",
   "metadata": {},
   "outputs": [
    {
     "name": "stdout",
     "output_type": "stream",
     "text": [
      "[1, 2, 3, 4, 5, 6, 7, 8, 9, 10]\n",
      "\n",
      "0\n",
      "1\n",
      "2\n",
      "3\n",
      "4\n",
      "5\n",
      "6\n",
      "7\n",
      "8\n",
      "9\n"
     ]
    }
   ],
   "source": [
    "\"\"\"\n",
    "List Comprehension\n",
    "\"\"\"\n",
    "\n",
    "one_to_ten = [i+1 for i in range(10)]\n",
    "\n",
    "print(one_to_ten)\n",
    "print()\n",
    "for i in range(10):\n",
    "    print(i)"
   ]
  },
  {
   "cell_type": "code",
   "execution_count": 29,
   "id": "cb55b340-adbc-4dfa-a6fc-4a97aa4c40b0",
   "metadata": {},
   "outputs": [
    {
     "name": "stdout",
     "output_type": "stream",
     "text": [
      "Do Something\n",
      "Do Something\n",
      "Do Something\n",
      "Do Something\n"
     ]
    }
   ],
   "source": [
    "x = 1\n",
    "y = 1\n",
    "while x < 5:\n",
    "    print(\"Do Something\")\n",
    "    x+=1"
   ]
  },
  {
   "cell_type": "code",
   "execution_count": null,
   "id": "2ec0dd4b-d53c-4bc5-9122-7751894de50e",
   "metadata": {},
   "outputs": [],
   "source": []
  }
 ],
 "metadata": {
  "kernelspec": {
   "display_name": "Python 3",
   "language": "python",
   "name": "python3"
  },
  "language_info": {
   "codemirror_mode": {
    "name": "ipython",
    "version": 3
   },
   "file_extension": ".py",
   "mimetype": "text/x-python",
   "name": "python",
   "nbconvert_exporter": "python",
   "pygments_lexer": "ipython3",
   "version": "3.8.8"
  }
 },
 "nbformat": 4,
 "nbformat_minor": 5
}
