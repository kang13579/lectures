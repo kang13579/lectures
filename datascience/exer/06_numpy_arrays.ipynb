{
 "cells": [
  {
   "cell_type": "code",
   "execution_count": 2,
   "id": "cae9f15a-c7bc-4d0c-92ae-98fa3c6fdb23",
   "metadata": {},
   "outputs": [
    {
     "name": "stdout",
     "output_type": "stream",
     "text": [
      "Requirement already satisfied: numpy in c:\\users\\user\\anaconda3\\lib\\site-packages (1.20.1)\n",
      "Note: you may need to restart the kernel to use updated packages.\n"
     ]
    }
   ],
   "source": [
    "pip install numpy"
   ]
  },
  {
   "cell_type": "code",
   "execution_count": 8,
   "id": "27b5e240-ec69-4e5c-95c3-94698f6ee4d9",
   "metadata": {},
   "outputs": [],
   "source": [
    "import numpy as np\n",
    "import pandas as pd\n",
    "from matplotlib import pyplot as plt"
   ]
  },
  {
   "cell_type": "code",
   "execution_count": 11,
   "id": "11df8296-bdac-4f5e-8af0-9d5ae715063a",
   "metadata": {},
   "outputs": [
    {
     "name": "stdout",
     "output_type": "stream",
     "text": [
      "[1 2 3 4 5 6]\n"
     ]
    }
   ],
   "source": [
    "#Creating a Numpy Array\n",
    "my_list = [1, 2, 3, 4, 5, 6]\n",
    "\n",
    "my_array = np.array(my_list)\n",
    "print(my_array)"
   ]
  },
  {
   "cell_type": "code",
   "execution_count": 12,
   "id": "fbddeaab-78fd-415e-bcd4-813073e2f7f2",
   "metadata": {},
   "outputs": [
    {
     "name": "stdout",
     "output_type": "stream",
     "text": [
      "[1 2]\n"
     ]
    }
   ],
   "source": [
    "arr = np.array([1, 2])\n",
    "print(arr)"
   ]
  },
  {
   "cell_type": "code",
   "execution_count": 15,
   "id": "dd349c77-2a2e-4f53-b8b4-9898aa8ff94a",
   "metadata": {},
   "outputs": [
    {
     "name": "stdout",
     "output_type": "stream",
     "text": [
      "<U11\n",
      "int32\n",
      "float64\n"
     ]
    }
   ],
   "source": [
    "# .dtype attribute\n",
    "\n",
    "a = np.array([1, \"A\", True])\n",
    "print(a.dtype)\n",
    "\n",
    "b = np.array([1, 2, 3])\n",
    "print(b.dtype)\n",
    "\n",
    "c = np.array([1.1, 2.3])\n",
    "print(c.dtype)"
   ]
  },
  {
   "cell_type": "code",
   "execution_count": 22,
   "id": "3c7c2d4d-5da8-4726-9a2a-4dbc5e4ef2ef",
   "metadata": {},
   "outputs": [
    {
     "name": "stdout",
     "output_type": "stream",
     "text": [
      "136\n",
      "144\n"
     ]
    }
   ],
   "source": [
    "\"\"\"\n",
    "Size Comparsion of ndarray and list object\n",
    "\"\"\"\n",
    "\n",
    "from sys import getsizeof\n",
    "\n",
    "lst = [1, 2, 3, 4, 5, 6, 7, 8, 9, 10]\n",
    "print(getsizeof(lst))\n",
    "\n",
    "\n",
    "arr = np.array([1, 2, 3, 4, 5, 6, 7, 8, 9, 10])\n",
    "print(getsizeof(arr))"
   ]
  },
  {
   "cell_type": "code",
   "execution_count": 23,
   "id": "be02e709-ea39-498d-b8e7-3f3675333551",
   "metadata": {},
   "outputs": [
    {
     "name": "stdout",
     "output_type": "stream",
     "text": [
      "[ 1  8 27]\n"
     ]
    }
   ],
   "source": [
    "lst = [1, 2, 3]\n",
    "arr = np.array(lst)\n",
    "\n",
    "arr = arr ** 3\n",
    "print(arr)"
   ]
  },
  {
   "cell_type": "code",
   "execution_count": 48,
   "id": "4eec384d-b4f1-4b94-9ec4-e6b8acf6ce15",
   "metadata": {},
   "outputs": [
    {
     "name": "stdout",
     "output_type": "stream",
     "text": [
      "[92 94 88 91 87] [ 79 100  86  93  91] [87 85 72 90 92]\n",
      "[89 87 74 92 94]\n",
      "[260 281 248 276 272]\n",
      "[86.66666667 93.66666667 82.66666667 92.         90.66666667]\n",
      "93\n",
      "[94, 88]\n",
      "[[ 92  94  88  91  87]\n",
      " [ 79 100  86  93  91]\n",
      " [ 89  87  74  92  94]]\n",
      "89\n",
      "[87 91 94]\n"
     ]
    }
   ],
   "source": [
    "\"\"\"\n",
    "Exercise\n",
    "\"\"\"\n",
    "\n",
    "test_1 = np.array([92, 94, 88, 91, 87])\n",
    "test_2 = np.array([79, 100, 86, 93, 91])\n",
    "test_3 = np.array([87, 85, 72, 90, 92])\n",
    "\n",
    "test_3_fixed = test_3 + 2\n",
    "\n",
    "print(test_1, test_2, test_3)\n",
    "print(test_3_fixed)\n",
    "\n",
    "total_grade = test_1 + test_2 + test_3_fixed\n",
    "print(total_grade)\n",
    "\n",
    "final_grade = total_grade / 3\n",
    "print(final_grade)\n",
    "\n",
    "jeremy_test_2 = test_2[3]\n",
    "print(jeremy_test_2)\n",
    "\n",
    "manual_adwoa_test_1 = [test_1[1], test_1[2]]\n",
    "print(manual_adwoa_test_1)\n",
    "\n",
    "\n",
    "student_scores = np.array([test_1, test_2, test_3_fixed])\n",
    "print(student_scores)\n",
    "\n",
    "print(student_scores[2][0])\n",
    "\n",
    "print(student_scores[:, 4])"
   ]
  },
  {
   "cell_type": "code",
   "execution_count": 56,
   "id": "4f45ce92-813d-4980-9d0d-8272b14fe8eb",
   "metadata": {},
   "outputs": [
    {
     "name": "stdout",
     "output_type": "stream",
     "text": [
      "[False False False False False  True  True  True  True  True]\n",
      "[ 1  2  3  4  5  6  7  8  9 10]\n"
     ]
    }
   ],
   "source": [
    "\"\"\"\n",
    "Logical Operations with Arrays\n",
    "\"\"\"\n",
    "\n",
    "#masking\n",
    "arr = np.array([1, 2, 3, 4, 5, 6, 7, 8, 9, 10])\n",
    "mask = lst > 5\n",
    "print(mask)\n",
    "\n",
    "\n",
    "# select using Logical operations\n",
    "selected = arr[(arr < 5) | (arr > 3)]\n",
    "print(selected)\n",
    "\n",
    "#comvined Logical operations"
   ]
  },
  {
   "cell_type": "code",
   "execution_count": null,
   "id": "ad127fee-2dfd-415c-9571-54bd69f5959e",
   "metadata": {},
   "outputs": [],
   "source": []
  }
 ],
 "metadata": {
  "kernelspec": {
   "display_name": "Python 3",
   "language": "python",
   "name": "python3"
  },
  "language_info": {
   "codemirror_mode": {
    "name": "ipython",
    "version": 3
   },
   "file_extension": ".py",
   "mimetype": "text/x-python",
   "name": "python",
   "nbconvert_exporter": "python",
   "pygments_lexer": "ipython3",
   "version": "3.8.8"
  }
 },
 "nbformat": 4,
 "nbformat_minor": 5
}
