{
 "cells": [
  {
   "cell_type": "code",
   "execution_count": null,
   "id": "01fc69c6-094b-4688-8432-5273df8cd37f",
   "metadata": {},
   "outputs": [],
   "source": []
  },
  {
   "cell_type": "code",
   "execution_count": 23,
   "id": "34997a44-b369-4dd6-bef8-0d0eb228a325",
   "metadata": {},
   "outputs": [],
   "source": [
    "import pandas as pd"
   ]
  },
  {
   "cell_type": "code",
   "execution_count": 24,
   "id": "8e681cbe-2d23-4e80-ac93-9a563f50c00b",
   "metadata": {},
   "outputs": [
    {
     "data": {
      "text/plain": [
       "'1.2.4'"
      ]
     },
     "execution_count": 24,
     "metadata": {},
     "output_type": "execute_result"
    }
   ],
   "source": [
    "pd.__version__"
   ]
  },
  {
   "cell_type": "code",
   "execution_count": 25,
   "id": "e6991609-4720-491a-a469-ceff3f4c5394",
   "metadata": {},
   "outputs": [
    {
     "name": "stdout",
     "output_type": "stream",
     "text": [
      "0    0.25\n",
      "1    0.20\n",
      "2    0.75\n",
      "3    1.00\n",
      "dtype: float64\n",
      "(4,)\n",
      "[0.25 0.2  0.75 1.  ]\n",
      "<class 'numpy.ndarray'>\n"
     ]
    }
   ],
   "source": [
    "ser = pd.Series([0.25, 0.2, 0.75, 1.0]) # constructor method: 객체를 생성하는 매서드\n",
    "print(ser)\n",
    "print(ser.shape)\n",
    "\n",
    "\n",
    "print(ser.values)\n",
    "print(type(ser.values))"
   ]
  },
  {
   "cell_type": "code",
   "execution_count": 31,
   "id": "86f85c19-ccbd-47af-874d-2127b63a7c51",
   "metadata": {},
   "outputs": [
    {
     "name": "stdout",
     "output_type": "stream",
     "text": [
      "a    0.25\n",
      "b    0.50\n",
      "c    0.75\n",
      "d    1.00\n",
      "dtype: float64\n",
      "0.5\n",
      "0.5\n"
     ]
    }
   ],
   "source": [
    "ser = pd.Series([0.25, 0.5, 0.75, 1.0], index=['a', 'b', 'c', 'd'])\n",
    "print(ser)\n",
    "\n",
    "print(ser['b']) #명시적\n",
    "print(ser[1]) #암묵적\n",
    "\n",
    "dict = "
   ]
  },
  {
   "cell_type": "code",
   "execution_count": 35,
   "id": "7a139274-2f81-4316-bbb5-66cfa96d786c",
   "metadata": {},
   "outputs": [
    {
     "name": "stdout",
     "output_type": "stream",
     "text": [
      "{'a': 1, 2: 'two', 'third': True}\n",
      "1\n"
     ]
    }
   ],
   "source": [
    "dict = {'a': 1, 2: 'two', 'third': True} #dict{key1:value1}\n",
    "print(dict)\n",
    "\n",
    "print(dict['a'])"
   ]
  },
  {
   "cell_type": "code",
   "execution_count": 41,
   "id": "80cd1bfb-3756-4ede-a1ec-17e016df369b",
   "metadata": {},
   "outputs": [
    {
     "name": "stdout",
     "output_type": "stream",
     "text": [
      "California    38332521\n",
      "Texas         26448193\n",
      "New York      19651127\n",
      "Florida       19552860\n",
      "Illinois      12882135\n",
      "dtype: int64\n",
      "\n",
      "California    38332521\n",
      "Texas         26448193\n",
      "New York      19651127\n",
      "dtype: int64\n",
      "\n",
      "California    38332521\n",
      "Texas         26448193\n",
      "New York      19651127\n",
      "Florida       19552860\n",
      "dtype: int64\n"
     ]
    }
   ],
   "source": [
    "population_dict = {'California': 38332521,\n",
    "                   'Texas': 26448193,\n",
    "                   \"New York\": 19651127,\n",
    "                   'Florida': 19552860,\n",
    "                   'Illinois': 12882135}\n",
    "\n",
    "\n",
    "population = pd.Series(population_dict)\n",
    "print(population)\n",
    "print()\n",
    "print(population['California':'New York'])\n",
    "print()\n",
    "print(population[:4])"
   ]
  },
  {
   "cell_type": "code",
   "execution_count": 43,
   "id": "e629af75-c52f-4f2f-af2a-b15eebbc7836",
   "metadata": {},
   "outputs": [
    {
     "name": "stdout",
     "output_type": "stream",
     "text": [
      "California    423967\n",
      "Texas         695662\n",
      "New York      141297\n",
      "Florida       170312\n",
      "Illinois      149995\n",
      "dtype: int64\n"
     ]
    }
   ],
   "source": [
    "area_dict = {'California': 423967,'Texas': 695662, 'New York': 141297,\n",
    "             'Florida': 170312, 'Illinois': 149995}\n",
    "\n",
    "area = pd.Series(area_dict)\n",
    "print(area)"
   ]
  },
  {
   "cell_type": "code",
   "execution_count": 86,
   "id": "29a8162e-b7c8-4f67-91d9-b642739f0959",
   "metadata": {},
   "outputs": [
    {
     "name": "stdout",
     "output_type": "stream",
     "text": [
      "            population      area\n",
      "California    38332521  38332521\n",
      "Texas         26448193  26448193\n",
      "New York      19651127  19651127\n",
      "Florida       19552860  19552860\n",
      "Illinois      12882135  12882135\n",
      "\n",
      "Index(['California', 'Texas', 'New York', 'Florida', 'Illinois'], dtype='object')\n",
      "\n",
      "Index(['population', 'area'], dtype='object')\n",
      "\n",
      "California    38332521\n",
      "Texas         26448193\n",
      "New York      19651127\n",
      "Florida       19552860\n",
      "Illinois      12882135\n",
      "Name: area, dtype: int64\n"
     ]
    }
   ],
   "source": [
    "df = pd.DataFrame({'population': population, 'area': area})\n",
    "\n",
    "print(df)\n",
    "print()\n",
    "\n",
    "print(df.index)\n",
    "print()\n",
    "\n",
    "print(df.columns)\n",
    "print()\n",
    "\n",
    "area = df['area']\n",
    "print(area)"
   ]
  },
  {
   "cell_type": "code",
   "execution_count": 58,
   "id": "d2b34d04-0b12-4586-a48e-f02a8d88c825",
   "metadata": {},
   "outputs": [],
   "source": [
    "import numpy as np"
   ]
  },
  {
   "cell_type": "code",
   "execution_count": 77,
   "id": "fa1309d5-3ebe-45f4-ab54-154f6635fefc",
   "metadata": {},
   "outputs": [
    {
     "name": "stdout",
     "output_type": "stream",
     "text": [
      "[[0.28514529 0.12735715]\n",
      " [0.93856321 0.13731765]\n",
      " [0.14451429 0.10101089]]\n",
      "                 foo       bar\n",
      "2021-10-13  0.526059  0.810370\n",
      "2021-10-14  0.421867  0.088055\n",
      "2021-10-15  0.369776  0.831861\n"
     ]
    }
   ],
   "source": [
    "arr = np.random.rand(3, 2)\n",
    "print(arr)\n",
    "\n",
    "df2 = pd.DataFrame(arr, columns=['foo', 'bar'], index=['2021-10-13', '2021-10-14', '2021-10-15'])\n",
    "print(df)"
   ]
  },
  {
   "cell_type": "code",
   "execution_count": 71,
   "id": "82b72a62-6c57-4296-a1d5-87a0782e857c",
   "metadata": {},
   "outputs": [
    {
     "name": "stdout",
     "output_type": "stream",
     "text": [
      "False\n"
     ]
    }
   ],
   "source": [
    "dict = {'a': 1, 2: 'two', 'third': True} #dict{key1:value1}\n",
    "\n",
    "'a' in dict\n",
    "print('two' in dict)"
   ]
  },
  {
   "cell_type": "code",
   "execution_count": 75,
   "id": "0075261b-1a86-44fe-ae93-6416a8cd8db6",
   "metadata": {},
   "outputs": [
    {
     "name": "stdout",
     "output_type": "stream",
     "text": [
      "0.5\n"
     ]
    },
    {
     "data": {
      "text/plain": [
       "False"
      ]
     },
     "execution_count": 75,
     "metadata": {},
     "output_type": "execute_result"
    }
   ],
   "source": [
    "ser = pd.Series([0.25, 0.5, 0.75, 1.0], index=['a', 'b', 'c', 'd'])\n",
    "\n",
    "print(ser['b'])\n",
    "'a' in ser\n",
    "0.25 in ser  #key 검색만 가능 value는 불가능\n",
    "\n"
   ]
  },
  {
   "cell_type": "code",
   "execution_count": 87,
   "id": "a06627a3-82fb-4dae-8abe-428dc91de6e9",
   "metadata": {},
   "outputs": [
    {
     "name": "stdout",
     "output_type": "stream",
     "text": [
      "            population      area\n",
      "California    38332521  38332521\n",
      "Texas         26448193  26448193\n",
      "New York      19651127  19651127\n",
      "Florida       19552860  19552860\n",
      "Illinois      12882135  12882135\n",
      "            population      area  density\n",
      "California    38332521  38332521      1.0\n",
      "Texas         26448193  26448193      1.0\n",
      "New York      19651127  19651127      1.0\n",
      "Florida       19552860  19552860      1.0\n",
      "Illinois      12882135  12882135      1.0\n"
     ]
    }
   ],
   "source": [
    "print(df)\n",
    "\n",
    "df['density'] = df['population']/df['area']\n",
    "print(df)"
   ]
  },
  {
   "cell_type": "code",
   "execution_count": 105,
   "id": "97c08fe5-82ea-4d2e-ae44-06ab7d87ad9b",
   "metadata": {},
   "outputs": [
    {
     "name": "stdout",
     "output_type": "stream",
     "text": [
      "          population      area  density\n",
      "New York    19651127  19651127      1.0\n",
      "Florida     19552860  19552860      1.0\n",
      "Illinois    12882135  12882135      1.0\n",
      "\n",
      "          population      area  density\n",
      "New York    19651127  19651127      1.0\n",
      "Florida     19552860  19552860      1.0\n",
      "Illinois    12882135  12882135      1.0\n"
     ]
    }
   ],
   "source": [
    "print(df.loc['New York':'Illinois']) #명시적 인덱스\n",
    "print() \n",
    "print(df.iloc[2:5]) #암묵적 인덱스 정수기반"
   ]
  },
  {
   "cell_type": "code",
   "execution_count": 109,
   "id": "df7ee440-01a3-4e15-a4a9-6a22c5e00611",
   "metadata": {},
   "outputs": [
    {
     "name": "stdout",
     "output_type": "stream",
     "text": [
      "[[3.8332521e+07 3.8332521e+07 1.0000000e+00]\n",
      " [2.6448193e+07 2.6448193e+07 1.0000000e+00]\n",
      " [1.9651127e+07 1.9651127e+07 1.0000000e+00]\n",
      " [1.9552860e+07 1.9552860e+07 1.0000000e+00]\n",
      " [1.2882135e+07 1.2882135e+07 1.0000000e+00]] \n",
      "\n",
      "            California       Texas    New York     Florida    Illinois\n",
      "population  38332521.0  26448193.0  19651127.0  19552860.0  12882135.0\n",
      "area        38332521.0  26448193.0  19651127.0  19552860.0  12882135.0\n",
      "density            1.0         1.0         1.0         1.0         1.0 \n",
      "\n",
      "            population      area\n",
      "California    38332521  38332521\n",
      "Texas         26448193  26448193\n",
      "New York      19651127  19651127  \n",
      "\n",
      "California    1.0\n",
      "Texas         1.0\n",
      "New York      1.0\n",
      "Florida       1.0\n",
      "Illinois      1.0\n",
      "Name: density, dtype: float64\n"
     ]
    }
   ],
   "source": [
    "print(df.values, '\\n')\n",
    "print(df.T, '\\n')\n",
    "\n",
    "print(df.iloc[:3,:2],' \\n')\n",
    "print(df.density)"
   ]
  },
  {
   "cell_type": "code",
   "execution_count": null,
   "id": "d2f0b593-fdcd-4a5b-a16a-086fd249a2a6",
   "metadata": {},
   "outputs": [],
   "source": []
  }
 ],
 "metadata": {
  "kernelspec": {
   "display_name": "Python 3",
   "language": "python",
   "name": "python3"
  },
  "language_info": {
   "codemirror_mode": {
    "name": "ipython",
    "version": 3
   },
   "file_extension": ".py",
   "mimetype": "text/x-python",
   "name": "python",
   "nbconvert_exporter": "python",
   "pygments_lexer": "ipython3",
   "version": "3.8.8"
  }
 },
 "nbformat": 4,
 "nbformat_minor": 5
}
